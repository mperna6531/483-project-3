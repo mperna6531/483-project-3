{
  "nbformat": 4,
  "nbformat_minor": 0,
  "metadata": {
    "colab": {
      "name": "project3.ipynb",
      "version": "0.3.2",
      "provenance": [],
      "collapsed_sections": [],
      "toc_visible": true
    },
    "kernelspec": {
      "name": "python3",
      "display_name": "Python 3"
    }
  },
  "cells": [
    {
      "cell_type": "code",
      "metadata": {
        "id": "4emg122g86QC",
        "colab_type": "code",
        "colab": {}
      },
      "source": [
        "#!/usr/bin/env python3\n",
        "\n",
        "import pandas as pd\n",
        "import numpy as np\n",
        "import random\n",
        "from matplotlib import pyplot as plt\n",
        "\n",
        "import sklearn.preprocessing\n",
        "\n",
        "from sklearn.model_selection import train_test_split\n",
        "from sklearn.naive_bayes import GaussianNB\n",
        "from sklearn.metrics import confusion_matrix, roc_curve, roc_auc_score\n",
        "from sklearn.linear_model import LogisticRegression\n",
        "\n",
        "from sklearn.svm import SVC\n",
        "\n",
        "# Experiment 0: preprocess data - code provided from Prof Kenytt Avery\n",
        "# bank.csv from https://archive.ics.uci.edu/ml/datasets/Bank+Marketing\n",
        "\n",
        "bank = pd.read_csv('bank.csv', sep=';')\n",
        "\n",
        "# Ordinal features\n",
        "#\n",
        "# Note: month probably shouldn't be ordinal.\n",
        "# Then again, neither should day.\n",
        "\n",
        "boolean = {'no': 0.0, 'yes': 1.0}\n",
        "months = {\n",
        "    'jan': 1.0, 'feb': 2.0, 'mar': 3.0, 'apr': 4.0,  'may': 5.0,  'jun': 6.0,\n",
        "    'jul': 7.0, 'aug': 8.0, 'sep': 9.0, 'oct': 10.0, 'nov': 11.0, 'dec': 12.0\n",
        "}\n",
        "\n",
        "bank.replace({\n",
        "    'default': boolean,\n",
        "    'housing': boolean,\n",
        "    'loan':    boolean,\n",
        "\n",
        "    'month':   months,\n",
        "    'y':       boolean\n",
        "}, inplace=True)\n",
        "\n",
        "# Categorical features\n",
        "#\n",
        "# Since we plan to use logistic regression, add drop_first=True\n",
        "# to use dummy instead of one-hot encoding\n",
        "\n",
        "categorical = ['job', 'marital', 'education', 'contact', 'poutcome']\n",
        "bank = pd.get_dummies(bank, columns=categorical,\n",
        "                      prefix=categorical, drop_first=True)\n",
        "\n",
        "# Numeric features\n",
        "#\n",
        "# Standardized because we plan to use KNN and SVM\n",
        "\n",
        "scaled = ['age', 'balance', 'day', 'month',\n",
        "          'duration', 'campaign', 'pdays', 'previous']\n",
        "bank[scaled] = sklearn.preprocessing.scale(bank[scaled].astype(float))\n",
        "\n",
        "# Training set and targets\n",
        "X = bank.drop(columns='y').values\n",
        "t = bank['y'].values"
      ],
      "execution_count": 0,
      "outputs": []
    },
    {
      "cell_type": "markdown",
      "metadata": {
        "id": "pV6NP5mD9FVf",
        "colab_type": "text"
      },
      "source": [
        "Setup done by Professor Avery, note we added the random library for expirament 8."
      ]
    },
    {
      "cell_type": "markdown",
      "metadata": {
        "id": "4es2TGOW-Qz4",
        "colab_type": "text"
      },
      "source": [
        "## Experiment 1"
      ]
    },
    {
      "cell_type": "code",
      "metadata": {
        "id": "8IOafHQE-T7G",
        "colab_type": "code",
        "colab": {}
      },
      "source": [
        "X_train, X_test, y_train, y_test = train_test_split(X, t, test_size=0.2, shuffle=True, random_state=1)"
      ],
      "execution_count": 0,
      "outputs": []
    },
    {
      "cell_type": "markdown",
      "metadata": {
        "id": "oTRv7lWd-aJr",
        "colab_type": "text"
      },
      "source": [
        "## Experiment 2"
      ]
    },
    {
      "cell_type": "code",
      "metadata": {
        "id": "dHEewgpD-dW8",
        "colab_type": "code",
        "outputId": "078a7313-4623-4bae-824b-5c1d7984e701",
        "colab": {
          "base_uri": "https://localhost:8080/",
          "height": 34
        }
      },
      "source": [
        "nb_clf = GaussianNB()\n",
        "nb_clf.fit(X_train, y_train)"
      ],
      "execution_count": 0,
      "outputs": [
        {
          "output_type": "execute_result",
          "data": {
            "text/plain": [
              "GaussianNB(priors=None, var_smoothing=1e-09)"
            ]
          },
          "metadata": {
            "tags": []
          },
          "execution_count": 4
        }
      ]
    },
    {
      "cell_type": "markdown",
      "metadata": {
        "id": "ho3UPmf5-fQI",
        "colab_type": "text"
      },
      "source": [
        "## Experiment 3\n",
        "#### a)"
      ]
    },
    {
      "cell_type": "code",
      "metadata": {
        "id": "7TEwcIin-hwK",
        "colab_type": "code",
        "outputId": "6dae024b-e4a2-48b6-a0ce-fc58cd766a42",
        "colab": {
          "base_uri": "https://localhost:8080/",
          "height": 34
        }
      },
      "source": [
        "print('NB score: ', nb_clf.score(X_test, y_test))"
      ],
      "execution_count": 0,
      "outputs": [
        {
          "output_type": "stream",
          "text": [
            "NB score:  0.8\n"
          ],
          "name": "stdout"
        }
      ]
    },
    {
      "cell_type": "markdown",
      "metadata": {
        "id": "nnwxOVAV-g6x",
        "colab_type": "text"
      },
      "source": [
        "#### b)"
      ]
    },
    {
      "cell_type": "code",
      "metadata": {
        "id": "s_sNmJ2A-pj4",
        "colab_type": "code",
        "outputId": "00931f1d-3470-4ff5-f47e-8fa34ea68541",
        "colab": {
          "base_uri": "https://localhost:8080/",
          "height": 52
        }
      },
      "source": [
        "y_pred = nb_clf.predict(X_test)\n",
        "cm = confusion_matrix(y_test, y_pred)\n",
        "print(cm)"
      ],
      "execution_count": 0,
      "outputs": [
        {
          "output_type": "stream",
          "text": [
            "[[674 116]\n",
            " [ 65  50]]\n"
          ],
          "name": "stdout"
        }
      ]
    },
    {
      "cell_type": "code",
      "metadata": {
        "id": "heSmzuidJBi8",
        "colab_type": "code",
        "colab": {}
      },
      "source": [
        ""
      ],
      "execution_count": 0,
      "outputs": []
    },
    {
      "cell_type": "markdown",
      "metadata": {
        "id": "rQAa07Tk-tHG",
        "colab_type": "text"
      },
      "source": [
        "#### c and d)"
      ]
    },
    {
      "cell_type": "code",
      "metadata": {
        "id": "sogL31oU-tXq",
        "colab_type": "code",
        "outputId": "1f42faed-55c3-4b49-cc5c-9249586045af",
        "colab": {
          "base_uri": "https://localhost:8080/",
          "height": 295
        }
      },
      "source": [
        "y_probs = nb_clf.predict_proba(X_test)\n",
        "fpr, tpr, thresholds = roc_curve(y_test, y_probs[:, 1])\n",
        "auc = roc_auc_score(y_test, y_probs[:, 1])\n",
        "\n",
        "plt.figure()\n",
        "lw = 2\n",
        "plt.plot(fpr, tpr, color='darkorange',\n",
        "         lw=lw, label=f'ROC curve, AUC = {auc:.3f}')\n",
        "plt.plot([0, 1], [0, 1], color='navy', lw=lw, linestyle='--')\n",
        "plt.xlim([0.0, 1.0])\n",
        "plt.ylim([0.0, 1.05])\n",
        "plt.xlabel('False Positive Rate')\n",
        "plt.ylabel('True Positive Rate')\n",
        "plt.title('Receiver operating characteristic for GaussianNB')\n",
        "plt.legend(loc=\"lower right\")\n",
        "plt.show()"
      ],
      "execution_count": 0,
      "outputs": [
        {
          "output_type": "display_data",
          "data": {
            "image/png": "[encoded data removed]",
            "text/plain": [
              "<Figure size 432x288 with 1 Axes>"
            ]
          },
          "metadata": {
            "tags": []
          }
        }
      ]
    },
    {
      "cell_type": "markdown",
      "metadata": {
        "id": "T65QLtKQJXGK",
        "colab_type": "text"
      },
      "source": [
        "The Naive Bayes Classifier has an R^2 value of 0.8.  From the confusion matrix, the classifier generates 116 false positives and 65 false negatives.  The AUC is 0.754."
      ]
    },
    {
      "cell_type": "markdown",
      "metadata": {
        "id": "B4Vpyt97--wh",
        "colab_type": "text"
      },
      "source": [
        "## Experiment 4"
      ]
    },
    {
      "cell_type": "code",
      "metadata": {
        "id": "ccb-Lyeb-8-j",
        "colab_type": "code",
        "outputId": "ba2bdf36-501d-4565-ad38-04ea7d487875",
        "colab": {
          "base_uri": "https://localhost:8080/",
          "height": 34
        }
      },
      "source": [
        "linreg_clf = LogisticRegression(fit_intercept=False, solver='lbfgs', random_state=1)\n",
        "linreg_clf.fit(X_train, y_train)\n",
        "print('linreg score: ', linreg_clf.score(X_test, y_test))"
      ],
      "execution_count": 0,
      "outputs": [
        {
          "output_type": "stream",
          "text": [
            "linreg score:  0.8806629834254144\n"
          ],
          "name": "stdout"
        }
      ]
    },
    {
      "cell_type": "markdown",
      "metadata": {
        "id": "UISqO0yT_D1R",
        "colab_type": "text"
      },
      "source": [
        "## Experiment 5"
      ]
    },
    {
      "cell_type": "code",
      "metadata": {
        "id": "uUoUtoR4_Dmq",
        "colab_type": "code",
        "outputId": "313bf969-0ee8-4b80-b03b-1c452a846bd5",
        "colab": {
          "base_uri": "https://localhost:8080/",
          "height": 52
        }
      },
      "source": [
        "kernels = ['linear', 'poly', 'rbf', 'sigmoid']\n",
        "\n",
        "svc_results = dict()\n",
        "for kernel in kernels:\n",
        "    svc = SVC(kernel=kernel, gamma='scale',\n",
        "              random_state=1).fit(X_train, y_train)\n",
        "    svc_results[kernel] = svc.score(X_test, y_test)\n",
        "\n",
        "print('Best performing kernel: ', max(\n",
        "    zip(svc_results.values(), svc_results.keys())))\n",
        "\n",
        "print(svc_results.values())"
      ],
      "execution_count": 0,
      "outputs": [
        {
          "output_type": "stream",
          "text": [
            "Best performing kernel:  (0.881767955801105, 'rbf')\n",
            "dict_values([0.8784530386740331, 0.8751381215469614, 0.881767955801105, 0.8486187845303867])\n"
          ],
          "name": "stdout"
        }
      ]
    },
    {
      "cell_type": "markdown",
      "metadata": {
        "id": "D7XX8F6vJMhh",
        "colab_type": "text"
      },
      "source": [
        "Our best performing kernel is rbf at .88"
      ]
    },
    {
      "cell_type": "markdown",
      "metadata": {
        "id": "wYq9H8qP_Jwl",
        "colab_type": "text"
      },
      "source": [
        "## Experiment 6\n",
        "\n",
        "The logistic  regression and SVC classifier both outperform our Naive Bayes classifier, which is expected due to the assumption of conditional independence.  The SVC classifier with 'rbf' kernel is our best performing model, achieving a score of 0.8818."
      ]
    },
    {
      "cell_type": "markdown",
      "metadata": {
        "id": "wDVdu_4M_QqN",
        "colab_type": "text"
      },
      "source": [
        "## Experiment 7"
      ]
    },
    {
      "cell_type": "code",
      "metadata": {
        "id": "qw8qmyRJ_QfH",
        "colab_type": "code",
        "outputId": "c6e788bd-408b-4963-e96c-807f8d5968b1",
        "colab": {
          "base_uri": "https://localhost:8080/",
          "height": 69
        }
      },
      "source": [
        "ones = 0\n",
        "zeros = 0\n",
        "for val in y_train:\n",
        "    if val == 1:\n",
        "        ones += 1\n",
        "    else:\n",
        "        zeros += 1\n",
        "\n",
        "print(f'y_train contains {zeros} zeros and {ones} ones')\n",
        "guess0Predict = zeros/(ones+zeros)\n",
        "print(\"Accuracy: \" + str(guess0Predict))\n",
        "\n",
        "y_probs = np.full((len(y_train), 1), 0)\n",
        "\n",
        "fpr, tpr, thresholds = roc_curve(y_train, y_probs)\n",
        "auc = roc_auc_score(y_train, y_probs)\n",
        "print(\"AUC: \" + str(auc))"
      ],
      "execution_count": 0,
      "outputs": [
        {
          "output_type": "stream",
          "text": [
            "y_train contains 3210 zeros and 406 ones\n",
            "Accuracy: 0.8877212389380531\n",
            "AUC: 0.5\n"
          ],
          "name": "stdout"
        }
      ]
    },
    {
      "cell_type": "markdown",
      "metadata": {
        "id": "FHQj8ffAI9zf",
        "colab_type": "text"
      },
      "source": [
        "Given the outputs here we can see that the accuracy does slightly improve by doing this. However when we look at the AUC score we get a straight 0.5, which means we're doing no better than guessing randomly. This is to be expected as we're literally just saying that everything is 0. We'd be picking a model that is accurate in this data but is not discriminate at all when new data arrives. For example in the next experiment where we apply random oversampling our accuracy would be 0.5 as well. "
      ]
    },
    {
      "cell_type": "markdown",
      "metadata": {
        "id": "iZYu_xud_evg",
        "colab_type": "text"
      },
      "source": [
        "## Experiment 8"
      ]
    },
    {
      "cell_type": "code",
      "metadata": {
        "id": "naIhzph4_JB-",
        "colab_type": "code",
        "colab": {}
      },
      "source": [
        "trueVals = []\n",
        "falseVals = []\n",
        "newVals = []\n",
        "\n",
        "# Get values by their class and save\n",
        "for i in range(len(y_train)):\n",
        "    if y_train[i] == 1:\n",
        "        trueVals.append(X_train[i])\n",
        "    else:\n",
        "        falseVals.append(X_train[i])\n",
        "\n",
        "# Randomly pick data from old class 1 to make the size of class 0 and class 1 equal.      \n",
        "newTrueVals = trueVals\n",
        "while len(newTrueVals) < len(falseVals):\n",
        "    newTrueVals.append(trueVals[(random.randint(0,len(trueVals)-1))])\n",
        "\n",
        "# Reconstruct the data set\n",
        "newTrueY = [1] * len(newTrueVals)\n",
        "newFalseY = [0] * len(falseVals)\n",
        "\n",
        "newX_train = newTrueVals + falseVals\n",
        "newY_train = newTrueY + newFalseY\n",
        "\n",
        "x_train_unshuffled = np.array(newX_train)\n",
        "y_train_unshuffled = np.array(newY_train)\n",
        "\n",
        "# still need to shuffle the data\n",
        "indexList = np.array(range(0, len(x_train_unshuffled)))\n",
        "np.random.shuffle(indexList)\n",
        "\n",
        "x_train = []\n",
        "y_train = []\n",
        "for i in indexList:\n",
        "    x_train.append(x_train_unshuffled[i])\n",
        "    y_train.append(y_train_unshuffled[i])\n",
        "\n",
        "#for formality lets keep the \n",
        "train_size = int(0.8 * len(x_train))\n",
        "test_size = len(x_train) - train_size\n",
        "\n",
        "# Note the variable change to fit copy pasted experiments 2-5\n",
        "X_train, X_test = x_train[:train_size], x_train[train_size:]\n",
        "y_train, y_test = y_train[:train_size], y_train[train_size:]"
      ],
      "execution_count": 0,
      "outputs": []
    },
    {
      "cell_type": "code",
      "metadata": {
        "id": "Eong3zWa_l5V",
        "colab_type": "code",
        "outputId": "bb35362e-bedc-482e-ce06-f249d0d98d3a",
        "colab": {
          "base_uri": "https://localhost:8080/",
          "height": 34
        }
      },
      "source": [
        "# Experiment 8-2\n",
        "nb_clf = GaussianNB()\n",
        "nb_clf.fit(X_train, y_train)"
      ],
      "execution_count": 0,
      "outputs": [
        {
          "output_type": "execute_result",
          "data": {
            "text/plain": [
              "GaussianNB(priors=None, var_smoothing=1e-09)"
            ]
          },
          "metadata": {
            "tags": []
          },
          "execution_count": 12
        }
      ]
    },
    {
      "cell_type": "code",
      "metadata": {
        "id": "dmlVvG0__o9s",
        "colab_type": "code",
        "outputId": "568445fb-23e1-450e-c5fe-2bd3b8b4b9f5",
        "colab": {
          "base_uri": "https://localhost:8080/",
          "height": 347
        }
      },
      "source": [
        "# Experiment 8-3\n",
        "#\n",
        "# a\n",
        "print('NB score: ', nb_clf.score(X_test, y_test))\n",
        "\n",
        "# b\n",
        "y_pred = nb_clf.predict(X_test)\n",
        "cm = confusion_matrix(y_test, y_pred)\n",
        "print(cm)\n",
        "\n",
        "# c, d\n",
        "#\n",
        "y_probs = nb_clf.predict_proba(X_test)\n",
        "fpr, tpr, thresholds = roc_curve(y_test, y_probs[:, 1])\n",
        "auc = roc_auc_score(y_test, y_probs[:, 1])\n",
        "\n",
        "plt.figure()\n",
        "lw = 2\n",
        "plt.plot(fpr, tpr, color='darkorange',\n",
        "         lw=lw, label=f'ROC curve, AUC = {auc:.3f}')\n",
        "plt.plot([0, 1], [0, 1], color='navy', lw=lw, linestyle='--')\n",
        "plt.xlim([0.0, 1.0])\n",
        "plt.ylim([0.0, 1.05])\n",
        "plt.xlabel('False Positive Rate')\n",
        "plt.ylabel('True Positive Rate')\n",
        "plt.title('Receiver operating characteristic for GaussianNB')\n",
        "plt.legend(loc=\"lower right\")\n",
        "plt.show()"
      ],
      "execution_count": 0,
      "outputs": [
        {
          "output_type": "stream",
          "text": [
            "NB score:  0.6931464174454829\n",
            "[[529 126]\n",
            " [268 361]]\n"
          ],
          "name": "stdout"
        },
        {
          "output_type": "display_data",
          "data": {
            "image/png": "[encoded data removed]",
            "text/plain": [
              "<Figure size 432x288 with 1 Axes>"
            ]
          },
          "metadata": {
            "tags": []
          }
        }
      ]
    },
    {
      "cell_type": "code",
      "metadata": {
        "id": "QrbfNm5b_ui-",
        "colab_type": "code",
        "outputId": "bc2107a6-194d-4477-b200-03bfdf374ee8",
        "colab": {
          "base_uri": "https://localhost:8080/",
          "height": 34
        }
      },
      "source": [
        "# Experiment 8-4\n",
        "linreg_clf = LogisticRegression(\n",
        "    fit_intercept=False, solver='lbfgs', random_state=1)\n",
        "linreg_clf.fit(X_train, y_train)\n",
        "print('linreg score: ', linreg_clf.score(X_test, y_test))"
      ],
      "execution_count": 0,
      "outputs": [
        {
          "output_type": "stream",
          "text": [
            "linreg score:  0.8021806853582555\n"
          ],
          "name": "stdout"
        }
      ]
    },
    {
      "cell_type": "code",
      "metadata": {
        "id": "KK0G8_c2_wIR",
        "colab_type": "code",
        "outputId": "0c6a6554-cd78-426b-8845-f306d5b2f7c3",
        "colab": {
          "base_uri": "https://localhost:8080/",
          "height": 52
        }
      },
      "source": [
        "# Experiment 8-5\n",
        "kernels = ['linear', 'poly', 'rbf', 'sigmoid']\n",
        "\n",
        "svc_results = dict()\n",
        "for kernel in kernels:\n",
        "    svc = SVC(kernel=kernel, gamma='scale',\n",
        "              random_state=1).fit(X_train, y_train)\n",
        "    svc_results[kernel] = svc.score(X_test, y_test)\n",
        "\n",
        "print('Best performing kernel: ', max(\n",
        "    zip(svc_results.values(), svc_results.keys())))\n",
        "\n",
        "print(svc_results.values())"
      ],
      "execution_count": 0,
      "outputs": [
        {
          "output_type": "stream",
          "text": [
            "Best performing kernel:  (0.8925233644859814, 'poly')\n",
            "dict_values([0.7967289719626168, 0.8925233644859814, 0.8917445482866043, 0.7079439252336449])\n"
          ],
          "name": "stdout"
        }
      ]
    },
    {
      "cell_type": "markdown",
      "metadata": {
        "id": "sC53AnFCI4Fs",
        "colab_type": "text"
      },
      "source": [
        "While the accuracy and linear regression score went down we've improved our AUC and slightly improved the svc. We also have improved the best performing kernel by doing this from 0.88 to 0.89.  The best performing kernel changed from 'rbf' on the first iteration to 'poly' after our data augmentation."
      ]
    }
  ]
}