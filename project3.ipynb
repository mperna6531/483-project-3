{
 "cells": [
  {
   "cell_type": "code",
   "execution_count": 11,
   "metadata": {
    "colab": {},
    "colab_type": "code",
    "id": "4emg122g86QC"
   },
   "outputs": [],
   "source": [
    "#!/usr/bin/env python3\n",
    "\n",
    "import pandas as pd\n",
    "import numpy as np\n",
    "import random\n",
    "from matplotlib import pyplot as plt\n",
    "\n",
    "import sklearn.preprocessing\n",
    "\n",
    "from sklearn.model_selection import train_test_split\n",
    "from sklearn.naive_bayes import GaussianNB\n",
    "from sklearn.metrics import confusion_matrix, roc_curve, roc_auc_score\n",
    "from sklearn.linear_model import LogisticRegression\n",
    "\n",
    "from sklearn.svm import SVC\n",
    "\n",
    "# Experiment 0: preprocess data - code provided from Prof Kenytt Avery\n",
    "# bank.csv from https://archive.ics.uci.edu/ml/datasets/Bank+Marketing\n",
    "\n",
    "bank = pd.read_csv('bank.csv', sep=';')\n",
    "\n",
    "# Ordinal features\n",
    "#\n",
    "# Note: month probably shouldn't be ordinal.\n",
    "# Then again, neither should day.\n",
    "\n",
    "boolean = {'no': 0.0, 'yes': 1.0}\n",
    "months = {\n",
    "    'jan': 1.0, 'feb': 2.0, 'mar': 3.0, 'apr': 4.0,  'may': 5.0,  'jun': 6.0,\n",
    "    'jul': 7.0, 'aug': 8.0, 'sep': 9.0, 'oct': 10.0, 'nov': 11.0, 'dec': 12.0\n",
    "}\n",
    "\n",
    "bank.replace({\n",
    "    'default': boolean,\n",
    "    'housing': boolean,\n",
    "    'loan':    boolean,\n",
    "\n",
    "    'month':   months,\n",
    "    'y':       boolean\n",
    "}, inplace=True)\n",
    "\n",
    "# Categorical features\n",
    "#\n",
    "# Since we plan to use logistic regression, add drop_first=True\n",
    "# to use dummy instead of one-hot encoding\n",
    "\n",
    "categorical = ['job', 'marital', 'education', 'contact', 'poutcome']\n",
    "bank = pd.get_dummies(bank, columns=categorical,\n",
    "                      prefix=categorical, drop_first=True)\n",
    "\n",
    "# Numeric features\n",
    "#\n",
    "# Standardized because we plan to use KNN and SVM\n",
    "\n",
    "scaled = ['age', 'balance', 'day', 'month',\n",
    "          'duration', 'campaign', 'pdays', 'previous']\n",
    "bank[scaled] = sklearn.preprocessing.scale(bank[scaled].astype(float))\n",
    "\n",
    "# Training set and targets\n",
    "X = bank.drop(columns='y').values\n",
    "t = bank['y'].values"
   ]
  },
  {
   "cell_type": "markdown",
   "metadata": {
    "colab_type": "text",
    "id": "pV6NP5mD9FVf"
   },
   "source": [
    "Setup done by Professor Avery, note we added the random library for expirament 8."
   ]
  },
  {
   "cell_type": "markdown",
   "metadata": {
    "colab_type": "text",
    "id": "4es2TGOW-Qz4"
   },
   "source": [
    "## Experiment 1"
   ]
  },
  {
   "cell_type": "code",
   "execution_count": 12,
   "metadata": {
    "colab": {},
    "colab_type": "code",
    "id": "8IOafHQE-T7G"
   },
   "outputs": [],
   "source": [
    "X_train, X_test, y_train, y_test = train_test_split(X, t, test_size=0.2, shuffle=True, random_state=1)"
   ]
  },
  {
   "cell_type": "markdown",
   "metadata": {
    "colab_type": "text",
    "id": "oTRv7lWd-aJr"
   },
   "source": [
    "## Experiment 2"
   ]
  },
  {
   "cell_type": "code",
   "execution_count": 13,
   "metadata": {
    "colab": {
     "base_uri": "https://localhost:8080/",
     "height": 34
    },
    "colab_type": "code",
    "id": "dHEewgpD-dW8",
    "outputId": "078a7313-4623-4bae-824b-5c1d7984e701"
   },
   "outputs": [
    {
     "data": {
      "text/plain": [
       "GaussianNB(priors=None, var_smoothing=1e-09)"
      ]
     },
     "execution_count": 13,
     "metadata": {},
     "output_type": "execute_result"
    }
   ],
   "source": [
    "nb_clf = GaussianNB()\n",
    "nb_clf.fit(X_train, y_train)"
   ]
  },
  {
   "cell_type": "markdown",
   "metadata": {
    "colab_type": "text",
    "id": "ho3UPmf5-fQI"
   },
   "source": [
    "## Experiment 3\n",
    "#### a)"
   ]
  },
  {
   "cell_type": "code",
   "execution_count": 14,
   "metadata": {
    "colab": {
     "base_uri": "https://localhost:8080/",
     "height": 34
    },
    "colab_type": "code",
    "id": "7TEwcIin-hwK",
    "outputId": "6dae024b-e4a2-48b6-a0ce-fc58cd766a42"
   },
   "outputs": [
    {
     "name": "stdout",
     "output_type": "stream",
     "text": [
      "NB score:  0.8\n"
     ]
    }
   ],
   "source": [
    "print('NB score: ', nb_clf.score(X_test, y_test))"
   ]
  },
  {
   "cell_type": "markdown",
   "metadata": {
    "colab_type": "text",
    "id": "nnwxOVAV-g6x"
   },
   "source": [
    "#### b)"
   ]
  },
  {
   "cell_type": "code",
   "execution_count": 15,
   "metadata": {
    "colab": {
     "base_uri": "https://localhost:8080/",
     "height": 52
    },
    "colab_type": "code",
    "id": "s_sNmJ2A-pj4",
    "outputId": "00931f1d-3470-4ff5-f47e-8fa34ea68541"
   },
   "outputs": [
    {
     "name": "stdout",
     "output_type": "stream",
     "text": [
      "[[674 116]\n",
      " [ 65  50]]\n"
     ]
    }
   ],
   "source": [
    "y_pred = nb_clf.predict(X_test)\n",
    "cm = confusion_matrix(y_test, y_pred)\n",
    "print(cm)"
   ]
  },
  {
   "cell_type": "markdown",
   "metadata": {
    "colab_type": "text",
    "id": "rQAa07Tk-tHG"
   },
   "source": [
    "#### c and d)"
   ]
  },
  {
   "cell_type": "code",
   "execution_count": 17,
   "metadata": {
    "colab": {
     "base_uri": "https://localhost:8080/",
     "height": 295
    },
    "colab_type": "code",
    "id": "sogL31oU-tXq",
    "outputId": "1f42faed-55c3-4b49-cc5c-9249586045af"
   },
   "outputs": [
    {
     "data": {
      "image/png": "[encoded data removed]",
      "text/plain": [
       "<Figure size 432x288 with 1 Axes>"
      ]
     },
     "metadata": {},
     "output_type": "display_data"
    }
   ],
   "source": [
    "y_probs = nb_clf.predict_proba(X_test)\n",
    "fpr, tpr, thresholds = roc_curve(y_test, y_probs[:, 1])\n",
    "auc = roc_auc_score(y_test, y_probs[:, 1])\n",
    "\n",
    "plt.figure()\n",
    "lw = 2\n",
    "plt.plot(fpr, tpr, color='darkorange',\n",
    "         lw=lw, label=f'ROC curve, AUC = {auc:.3f}')\n",
    "plt.plot([0, 1], [0, 1], color='navy', lw=lw, linestyle='--')\n",
    "plt.xlim([0.0, 1.0])\n",
    "plt.ylim([0.0, 1.05])\n",
    "plt.xlabel('False Positive Rate')\n",
    "plt.ylabel('True Positive Rate')\n",
    "plt.title('Receiver operating characteristic for GaussianNB')\n",
    "plt.legend(loc=\"lower right\")\n",
    "plt.show()"
   ]
  },
  {
   "cell_type": "markdown",
   "metadata": {
    "colab_type": "text",
    "id": "T65QLtKQJXGK"
   },
   "source": [
    "The Naive Bayes Classifier has an R^2 value of 0.8.  From the confusion matrix, the classifier generates 116 false positives and 65 false negatives.  The AUC is 0.754."
   ]
  },
  {
   "cell_type": "markdown",
   "metadata": {
    "colab_type": "text",
    "id": "B4Vpyt97--wh"
   },
   "source": [
    "## Experiment 4"
   ]
  },
  {
   "cell_type": "code",
   "execution_count": 18,
   "metadata": {
    "colab": {
     "base_uri": "https://localhost:8080/",
     "height": 34
    },
    "colab_type": "code",
    "id": "ccb-Lyeb-8-j",
    "outputId": "ba2bdf36-501d-4565-ad38-04ea7d487875"
   },
   "outputs": [
    {
     "name": "stdout",
     "output_type": "stream",
     "text": [
      "linreg score:  0.8806629834254144\n"
     ]
    }
   ],
   "source": [
    "linreg_clf = LogisticRegression(fit_intercept=False, solver='lbfgs', random_state=1)\n",
    "linreg_clf.fit(X_train, y_train)\n",
    "print('linreg score: ', linreg_clf.score(X_test, y_test))"
   ]
  },
  {
   "cell_type": "markdown",
   "metadata": {
    "colab_type": "text",
    "id": "UISqO0yT_D1R"
   },
   "source": [
    "## Experiment 5"
   ]
  },
  {
   "cell_type": "code",
   "execution_count": 19,
   "metadata": {
    "colab": {
     "base_uri": "https://localhost:8080/",
     "height": 52
    },
    "colab_type": "code",
    "id": "uUoUtoR4_Dmq",
    "outputId": "313bf969-0ee8-4b80-b03b-1c452a846bd5"
   },
   "outputs": [
    {
     "name": "stdout",
     "output_type": "stream",
     "text": [
      "Best performing kernel:  (0.881767955801105, 'rbf')\n",
      "dict_values([0.8784530386740331, 0.8751381215469614, 0.881767955801105, 0.8486187845303867])\n"
     ]
    }
   ],
   "source": [
    "kernels = ['linear', 'poly', 'rbf', 'sigmoid']\n",
    "\n",
    "svc_results = dict()\n",
    "for kernel in kernels:\n",
    "    svc = SVC(kernel=kernel, gamma='scale',\n",
    "              random_state=1).fit(X_train, y_train)\n",
    "    svc_results[kernel] = svc.score(X_test, y_test)\n",
    "\n",
    "print('Best performing kernel: ', max(\n",
    "    zip(svc_results.values(), svc_results.keys())))\n",
    "\n",
    "print(svc_results.values())"
   ]
  },
  {
   "cell_type": "markdown",
   "metadata": {
    "colab_type": "text",
    "id": "D7XX8F6vJMhh"
   },
   "source": [
    "Our best performing kernel is rbf at .88"
   ]
  },
  {
   "cell_type": "markdown",
   "metadata": {
    "colab_type": "text",
    "id": "wYq9H8qP_Jwl"
   },
   "source": [
    "## Experiment 6\n",
    "\n",
    "The logistic  regression and SVC classifier both outperform our Naive Bayes classifier, which is expected due to the assumption of conditional independence.  The SVC classifier with 'rbf' kernel is our best performing model, achieving a score of 0.8818."
   ]
  },
  {
   "cell_type": "markdown",
   "metadata": {
    "colab_type": "text",
    "id": "wDVdu_4M_QqN"
   },
   "source": [
    "## Experiment 7"
   ]
  },
  {
   "cell_type": "code",
   "execution_count": 20,
   "metadata": {
    "colab": {
     "base_uri": "https://localhost:8080/",
     "height": 69
    },
    "colab_type": "code",
    "id": "qw8qmyRJ_QfH",
    "outputId": "c6e788bd-408b-4963-e96c-807f8d5968b1"
   },
   "outputs": [
    {
     "name": "stdout",
     "output_type": "stream",
     "text": [
      "y_train contains 3210 zeros and 406 ones\n",
      "Accuracy: 0.8877212389380531\n",
      "AUC: 0.5\n"
     ]
    }
   ],
   "source": [
    "ones = 0\n",
    "zeros = 0\n",
    "for val in y_train:\n",
    "    if val == 1:\n",
    "        ones += 1\n",
    "    else:\n",
    "        zeros += 1\n",
    "\n",
    "print(f'y_train contains {zeros} zeros and {ones} ones')\n",
    "guess0Predict = zeros/(ones+zeros)\n",
    "print(\"Accuracy: \" + str(guess0Predict))\n",
    "\n",
    "y_probs = np.full((len(y_train), 1), 0)\n",
    "\n",
    "fpr, tpr, thresholds = roc_curve(y_train, y_probs)\n",
    "auc = roc_auc_score(y_train, y_probs)\n",
    "print(\"AUC: \" + str(auc))"
   ]
  },
  {
   "cell_type": "markdown",
   "metadata": {
    "colab_type": "text",
    "id": "FHQj8ffAI9zf"
   },
   "source": [
    "Given the outputs here we can see that the accuracy does slightly improve by doing this. However when we look at the AUC score we get a straight 0.5, which means we're doing no better than guessing randomly. This is to be expected as we're literally just saying that everything is 0. We'd be picking a model that is accurate in this data but is not discriminate at all when new data arrives. For example in the next experiment where we apply random oversampling our accuracy would be 0.5 as well. "
   ]
  },
  {
   "cell_type": "markdown",
   "metadata": {
    "colab_type": "text",
    "id": "iZYu_xud_evg"
   },
   "source": [
    "## Experiment 8"
   ]
  },
  {
   "cell_type": "code",
   "execution_count": 22,
   "metadata": {
    "colab": {},
    "colab_type": "code",
    "id": "naIhzph4_JB-"
   },
   "outputs": [],
   "source": [
    "trueVals = []\n",
    "falseVals = []\n",
    "newVals = []\n",
    "\n",
    "# Get values by their class and save\n",
    "for i in range(len(y_train)):\n",
    "    if y_train[i] == 1:\n",
    "        trueVals.append(X_train[i])\n",
    "    else:\n",
    "        falseVals.append(X_train[i])\n",
    "\n",
    "# Randomly pick data from old class 1 to make the size of class 0 and class 1 equal.      \n",
    "newTrueVals = trueVals\n",
    "while len(newTrueVals) < len(falseVals):\n",
    "    newTrueVals.append(trueVals[(random.randint(0,len(trueVals)-1))])\n",
    "\n",
    "# Reconstruct the data set\n",
    "newTrueY = [1] * len(newTrueVals)\n",
    "newFalseY = [0] * len(falseVals)\n",
    "\n",
    "X_augmented = newTrueVals + falseVals\n",
    "t_augmented = newTrueY + newFalseY\n",
    "\n",
    "X_train, X_test, y_train, y_test = train_test_split(\n",
    "    X_augmented, t_augmented, test_size=0.2, shuffle=True, random_state=1)"
   ]
  },
  {
   "cell_type": "code",
   "execution_count": 23,
   "metadata": {
    "colab": {
     "base_uri": "https://localhost:8080/",
     "height": 34
    },
    "colab_type": "code",
    "id": "Eong3zWa_l5V",
    "outputId": "bb35362e-bedc-482e-ce06-f249d0d98d3a"
   },
   "outputs": [
    {
     "data": {
      "text/plain": [
       "GaussianNB(priors=None, var_smoothing=1e-09)"
      ]
     },
     "execution_count": 23,
     "metadata": {},
     "output_type": "execute_result"
    }
   ],
   "source": [
    "# Experiment 8-2\n",
    "nb_clf = GaussianNB()\n",
    "nb_clf.fit(X_train, y_train)"
   ]
  },
  {
   "cell_type": "code",
   "execution_count": 24,
   "metadata": {
    "colab": {
     "base_uri": "https://localhost:8080/",
     "height": 347
    },
    "colab_type": "code",
    "id": "dmlVvG0__o9s",
    "outputId": "568445fb-23e1-450e-c5fe-2bd3b8b4b9f5"
   },
   "outputs": [
    {
     "name": "stdout",
     "output_type": "stream",
     "text": [
      "NB score:  0.6900311526479751\n",
      "[[511 131]\n",
      " [267 375]]\n"
     ]
    },
    {
     "data": {
      "image/png": "[encoded data removed]",
      "text/plain": [
       "<Figure size 432x288 with 1 Axes>"
      ]
     },
     "metadata": {},
     "output_type": "display_data"
    }
   ],
   "source": [
    "# Experiment 8-3\n",
    "#\n",
    "# a\n",
    "print('NB score: ', nb_clf.score(X_test, y_test))\n",
    "\n",
    "# b\n",
    "y_pred = nb_clf.predict(X_test)\n",
    "cm = confusion_matrix(y_test, y_pred)\n",
    "print(cm)\n",
    "\n",
    "# c, d\n",
    "#\n",
    "y_probs = nb_clf.predict_proba(X_test)\n",
    "fpr, tpr, thresholds = roc_curve(y_test, y_probs[:, 1])\n",
    "auc = roc_auc_score(y_test, y_probs[:, 1])\n",
    "\n",
    "plt.figure()\n",
    "lw = 2\n",
    "plt.plot(fpr, tpr, color='darkorange',\n",
    "         lw=lw, label=f'ROC curve, AUC = {auc:.3f}')\n",
    "plt.plot([0, 1], [0, 1], color='navy', lw=lw, linestyle='--')\n",
    "plt.xlim([0.0, 1.0])\n",
    "plt.ylim([0.0, 1.05])\n",
    "plt.xlabel('False Positive Rate')\n",
    "plt.ylabel('True Positive Rate')\n",
    "plt.title('Receiver operating characteristic for GaussianNB')\n",
    "plt.legend(loc=\"lower right\")\n",
    "plt.show()"
   ]
  },
  {
   "cell_type": "code",
   "execution_count": 25,
   "metadata": {
    "colab": {
     "base_uri": "https://localhost:8080/",
     "height": 34
    },
    "colab_type": "code",
    "id": "QrbfNm5b_ui-",
    "outputId": "bc2107a6-194d-4477-b200-03bfdf374ee8"
   },
   "outputs": [
    {
     "name": "stdout",
     "output_type": "stream",
     "text": [
      "linreg score:  0.794392523364486\n"
     ]
    }
   ],
   "source": [
    "# Experiment 8-4\n",
    "linreg_clf = LogisticRegression(\n",
    "    fit_intercept=False, solver='lbfgs', random_state=1)\n",
    "linreg_clf.fit(X_train, y_train)\n",
    "print('linreg score: ', linreg_clf.score(X_test, y_test))"
   ]
  },
  {
   "cell_type": "code",
   "execution_count": 26,
   "metadata": {
    "colab": {
     "base_uri": "https://localhost:8080/",
     "height": 52
    },
    "colab_type": "code",
    "id": "KK0G8_c2_wIR",
    "outputId": "0c6a6554-cd78-426b-8845-f306d5b2f7c3"
   },
   "outputs": [
    {
     "name": "stdout",
     "output_type": "stream",
     "text": [
      "Best performing kernel:  (0.8956386292834891, 'poly')\n",
      "dict_values([0.7975077881619937, 0.8956386292834891, 0.8886292834890965, 0.677570093457944])\n"
     ]
    }
   ],
   "source": [
    "# Experiment 8-5\n",
    "kernels = ['linear', 'poly', 'rbf', 'sigmoid']\n",
    "\n",
    "svc_results = dict()\n",
    "for kernel in kernels:\n",
    "    svc = SVC(kernel=kernel, gamma='scale',\n",
    "              random_state=1).fit(X_train, y_train)\n",
    "    svc_results[kernel] = svc.score(X_test, y_test)\n",
    "\n",
    "print('Best performing kernel: ', max(\n",
    "    zip(svc_results.values(), svc_results.keys())))\n",
    "\n",
    "print(svc_results.values())"
   ]
  },
  {
   "cell_type": "markdown",
   "metadata": {
    "colab_type": "text",
    "id": "sC53AnFCI4Fs"
   },
   "source": [
    "While the accuracy and linear regression score went down we've improved our AUC and slightly improved the svc. We also have improved the best performing kernel by doing this from 0.88 to 0.89.  The best performing kernel changed from 'rbf' on the first iteration to 'poly' after our data augmentation."
   ]
  }
 ],
 "metadata": {
  "colab": {
   "collapsed_sections": [],
   "name": "project3.ipynb",
   "provenance": [],
   "toc_visible": true,
   "version": "0.3.2"
  },
  "kernelspec": {
   "display_name": "Python 3",
   "language": "python",
   "name": "python3"
  },
  "language_info": {
   "codemirror_mode": {
    "name": "ipython",
    "version": 3
   },
   "file_extension": ".py",
   "mimetype": "text/x-python",
   "name": "python",
   "nbconvert_exporter": "python",
   "pygments_lexer": "ipython3",
   "version": "3.6.8"
  }
 },
 "nbformat": 4,
 "nbformat_minor": 1
}
